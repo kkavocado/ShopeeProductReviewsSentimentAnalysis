{
    "cells": [
        {
            "cell_type": "code",
            "execution_count": 31,
            "source": [
                "import pandas as pd"
            ],
            "outputs": [],
            "metadata": {}
        },
        {
            "cell_type": "code",
            "execution_count": 32,
            "source": [
                "#install genism package for word2vec\r\n",
                "!pip3 install --upgrade gensim"
            ],
            "outputs": [
                {
                    "output_type": "stream",
                    "name": "stdout",
                    "text": [
                        "Requirement already satisfied: gensim in c:\\users\\loke yi\\appdata\\local\\programs\\python\\python39\\lib\\site-packages (4.0.1)\n",
                        "Requirement already satisfied: scipy>=0.18.1 in c:\\users\\loke yi\\appdata\\local\\programs\\python\\python39\\lib\\site-packages (from gensim) (1.7.1)\n",
                        "Requirement already satisfied: numpy>=1.11.3 in c:\\users\\loke yi\\appdata\\local\\programs\\python\\python39\\lib\\site-packages (from gensim) (1.21.1)\n",
                        "Requirement already satisfied: smart-open>=1.8.1 in c:\\users\\loke yi\\appdata\\local\\programs\\python\\python39\\lib\\site-packages (from gensim) (5.1.0)\n"
                    ]
                }
            ],
            "metadata": {}
        },
        {
            "cell_type": "code",
            "execution_count": 3,
            "source": [
                "!pip3 install transformers"
            ],
            "outputs": [
                {
                    "output_type": "stream",
                    "name": "stdout",
                    "text": [
                        "Requirement already satisfied: transformers in c:\\users\\loke yi\\appdata\\local\\programs\\python\\python39\\lib\\site-packages (4.9.2)\n",
                        "Requirement already satisfied: filelock in c:\\users\\loke yi\\appdata\\local\\programs\\python\\python39\\lib\\site-packages (from transformers) (3.0.12)\n",
                        "Requirement already satisfied: pyyaml>=5.1 in c:\\users\\loke yi\\appdata\\local\\programs\\python\\python39\\lib\\site-packages (from transformers) (5.4.1)\n",
                        "Requirement already satisfied: regex!=2019.12.17 in c:\\users\\loke yi\\appdata\\local\\programs\\python\\python39\\lib\\site-packages (from transformers) (2021.8.3)\n",
                        "Requirement already satisfied: tokenizers<0.11,>=0.10.1 in c:\\users\\loke yi\\appdata\\local\\programs\\python\\python39\\lib\\site-packages (from transformers) (0.10.3)\n",
                        "Requirement already satisfied: sacremoses in c:\\users\\loke yi\\appdata\\local\\programs\\python\\python39\\lib\\site-packages (from transformers) (0.0.45)\n",
                        "Requirement already satisfied: packaging in c:\\users\\loke yi\\appdata\\local\\programs\\python\\python39\\lib\\site-packages (from transformers) (21.0)\n",
                        "Requirement already satisfied: tqdm>=4.27 in c:\\users\\loke yi\\appdata\\local\\programs\\python\\python39\\lib\\site-packages (from transformers) (4.62.0)\n",
                        "Requirement already satisfied: requests in c:\\users\\loke yi\\appdata\\local\\programs\\python\\python39\\lib\\site-packages (from transformers) (2.18.4)\n",
                        "Requirement already satisfied: huggingface-hub==0.0.12 in c:\\users\\loke yi\\appdata\\local\\programs\\python\\python39\\lib\\site-packages (from transformers) (0.0.12)\n",
                        "Requirement already satisfied: numpy>=1.17 in c:\\users\\loke yi\\appdata\\local\\programs\\python\\python39\\lib\\site-packages (from transformers) (1.21.1)\n",
                        "Requirement already satisfied: typing-extensions in c:\\users\\loke yi\\appdata\\local\\programs\\python\\python39\\lib\\site-packages (from huggingface-hub==0.0.12->transformers) (3.10.0.0)\n",
                        "Requirement already satisfied: pyparsing>=2.0.2 in c:\\users\\loke yi\\appdata\\local\\programs\\python\\python39\\lib\\site-packages (from packaging->transformers) (2.4.7)\n",
                        "Requirement already satisfied: colorama in c:\\users\\loke yi\\appdata\\local\\programs\\python\\python39\\lib\\site-packages (from tqdm>=4.27->transformers) (0.4.4)\n",
                        "Requirement already satisfied: urllib3<1.23,>=1.21.1 in c:\\users\\loke yi\\appdata\\local\\programs\\python\\python39\\lib\\site-packages (from requests->transformers) (1.22)\n",
                        "Requirement already satisfied: certifi>=2017.4.17 in c:\\users\\loke yi\\appdata\\local\\programs\\python\\python39\\lib\\site-packages (from requests->transformers) (2021.5.30)\n",
                        "Requirement already satisfied: idna<2.7,>=2.5 in c:\\users\\loke yi\\appdata\\local\\programs\\python\\python39\\lib\\site-packages (from requests->transformers) (2.6)\n",
                        "Requirement already satisfied: chardet<3.1.0,>=3.0.2 in c:\\users\\loke yi\\appdata\\local\\programs\\python\\python39\\lib\\site-packages (from requests->transformers) (3.0.4)\n",
                        "Requirement already satisfied: click in c:\\users\\loke yi\\appdata\\local\\programs\\python\\python39\\lib\\site-packages (from sacremoses->transformers) (8.0.1)\n",
                        "Requirement already satisfied: six in c:\\users\\loke yi\\appdata\\local\\programs\\python\\python39\\lib\\site-packages (from sacremoses->transformers) (1.16.0)\n",
                        "Requirement already satisfied: joblib in c:\\users\\loke yi\\appdata\\local\\programs\\python\\python39\\lib\\site-packages (from sacremoses->transformers) (1.0.1)\n"
                    ]
                }
            ],
            "metadata": {}
        },
        {
            "cell_type": "code",
            "execution_count": 4,
            "source": [
                "!pip3 install nltk"
            ],
            "outputs": [
                {
                    "output_type": "stream",
                    "name": "stdout",
                    "text": [
                        "Requirement already satisfied: nltk in c:\\users\\loke yi\\appdata\\local\\programs\\python\\python39\\lib\\site-packages (3.6.2)\n",
                        "Requirement already satisfied: joblib in c:\\users\\loke yi\\appdata\\local\\programs\\python\\python39\\lib\\site-packages (from nltk) (1.0.1)\n",
                        "Requirement already satisfied: tqdm in c:\\users\\loke yi\\appdata\\local\\programs\\python\\python39\\lib\\site-packages (from nltk) (4.62.0)\n",
                        "Requirement already satisfied: click in c:\\users\\loke yi\\appdata\\local\\programs\\python\\python39\\lib\\site-packages (from nltk) (8.0.1)\n",
                        "Requirement already satisfied: regex in c:\\users\\loke yi\\appdata\\local\\programs\\python\\python39\\lib\\site-packages (from nltk) (2021.8.3)\n",
                        "Requirement already satisfied: colorama in c:\\users\\loke yi\\appdata\\local\\programs\\python\\python39\\lib\\site-packages (from click->nltk) (0.4.4)\n"
                    ]
                }
            ],
            "metadata": {}
        },
        {
            "cell_type": "code",
            "execution_count": 5,
            "source": [
                "!pip3 install torch"
            ],
            "outputs": [
                {
                    "output_type": "stream",
                    "name": "stdout",
                    "text": [
                        "Requirement already satisfied: torch in c:\\users\\loke yi\\appdata\\local\\programs\\python\\python39\\lib\\site-packages (1.9.0)\n",
                        "Requirement already satisfied: typing-extensions in c:\\users\\loke yi\\appdata\\local\\programs\\python\\python39\\lib\\site-packages (from torch) (3.10.0.0)\n"
                    ]
                }
            ],
            "metadata": {}
        },
        {
            "cell_type": "code",
            "execution_count": 6,
            "source": [
                "!pip3 install matplotlib"
            ],
            "outputs": [
                {
                    "output_type": "stream",
                    "name": "stdout",
                    "text": [
                        "Requirement already satisfied: matplotlib in c:\\users\\loke yi\\appdata\\local\\programs\\python\\python39\\lib\\site-packages (3.4.3)\n",
                        "Requirement already satisfied: pyparsing>=2.2.1 in c:\\users\\loke yi\\appdata\\local\\programs\\python\\python39\\lib\\site-packages (from matplotlib) (2.4.7)\n",
                        "Requirement already satisfied: pillow>=6.2.0 in c:\\users\\loke yi\\appdata\\local\\programs\\python\\python39\\lib\\site-packages (from matplotlib) (8.3.1)\n",
                        "Requirement already satisfied: kiwisolver>=1.0.1 in c:\\users\\loke yi\\appdata\\local\\programs\\python\\python39\\lib\\site-packages (from matplotlib) (1.3.1)\n",
                        "Requirement already satisfied: cycler>=0.10 in c:\\users\\loke yi\\appdata\\local\\programs\\python\\python39\\lib\\site-packages (from matplotlib) (0.10.0)\n",
                        "Requirement already satisfied: python-dateutil>=2.7 in c:\\users\\loke yi\\appdata\\local\\programs\\python\\python39\\lib\\site-packages (from matplotlib) (2.8.2)\n",
                        "Requirement already satisfied: numpy>=1.16 in c:\\users\\loke yi\\appdata\\local\\programs\\python\\python39\\lib\\site-packages (from matplotlib) (1.21.1)\n",
                        "Requirement already satisfied: six in c:\\users\\loke yi\\appdata\\local\\programs\\python\\python39\\lib\\site-packages (from cycler>=0.10->matplotlib) (1.16.0)\n"
                    ]
                }
            ],
            "metadata": {}
        },
        {
            "cell_type": "code",
            "execution_count": 7,
            "source": [
                "import os\r\n",
                "import random\r\n",
                "import numpy as np\r\n",
                "import pandas as pd\r\n",
                "import nltk\r\n",
                "nltk.download('punkt')\r\n",
                "nltk.download('stopwords')\r\n",
                "nltk.download('averaged_perceptron_tagger')\r\n",
                "nltk.download('wordnet')\r\n",
                "from nltk.tokenize import sent_tokenize, word_tokenize \r\n",
                "from nltk.corpus import stopwords\r\n",
                "from nltk.stem import PorterStemmer\r\n",
                "from nltk.stem import WordNetLemmatizer \r\n",
                "from nltk.corpus import wordnet\r\n",
                "from nltk.tag import pos_tag\r\n",
                "import re\r\n",
                "from sklearn.model_selection import train_test_split\r\n",
                "from sklearn.svm import SVC\r\n",
                "from sklearn.model_selection import GridSearchCV\r\n",
                "from sklearn.metrics import accuracy_score\r\n",
                "from sklearn.metrics import classification_report, confusion_matrix\r\n",
                "from sklearn.metrics import roc_curve, auc\r\n",
                "from matplotlib import pyplot as plt\r\n",
                "from sklearn.naive_bayes import GaussianNB, MultinomialNB\r\n",
                "from sklearn.tree import DecisionTreeClassifier\r\n",
                "from sklearn.ensemble import RandomForestClassifier\r\n",
                "from sklearn.neural_network import MLPClassifier\r\n",
                "import itertools\r\n",
                "from sklearn.feature_extraction.text import CountVectorizer\r\n",
                "from sklearn.feature_extraction.text import TfidfVectorizer\r\n",
                "#import mxnet as mx\r\n",
                "#from bert_embedding import BertEmbedding\r\n",
                "#from sentence_transformers import SentenceTransformer\r\n",
                "import gensim \r\n",
                "from gensim.models import Word2Vec\r\n",
                "import torch\r\n",
                "import transformers as ppb\r\n",
                "import warnings\r\n",
                "warnings.filterwarnings('ignore')"
            ],
            "outputs": [
                {
                    "output_type": "stream",
                    "name": "stderr",
                    "text": [
                        "[nltk_data] Downloading package punkt to C:\\Users\\Loke\n",
                        "[nltk_data]     Yi\\AppData\\Roaming\\nltk_data...\n",
                        "[nltk_data]   Package punkt is already up-to-date!\n",
                        "[nltk_data] Downloading package stopwords to C:\\Users\\Loke\n",
                        "[nltk_data]     Yi\\AppData\\Roaming\\nltk_data...\n",
                        "[nltk_data]   Package stopwords is already up-to-date!\n",
                        "[nltk_data] Downloading package averaged_perceptron_tagger to\n",
                        "[nltk_data]     C:\\Users\\Loke Yi\\AppData\\Roaming\\nltk_data...\n",
                        "[nltk_data]   Package averaged_perceptron_tagger is already up-to-\n",
                        "[nltk_data]       date!\n",
                        "[nltk_data] Downloading package wordnet to C:\\Users\\Loke\n",
                        "[nltk_data]     Yi\\AppData\\Roaming\\nltk_data...\n",
                        "[nltk_data]   Package wordnet is already up-to-date!\n",
                        "C:\\Users\\Loke Yi\\AppData\\Local\\Programs\\Python\\Python39\\lib\\site-packages\\gensim\\similarities\\__init__.py:15: UserWarning: The gensim.similarities.levenshtein submodule is disabled, because the optional Levenshtein package <https://pypi.org/project/python-Levenshtein/> is unavailable. Install Levenhstein (e.g. `pip install python-Levenshtein`) to suppress this warning.\n",
                        "  warnings.warn(msg)\n"
                    ]
                }
            ],
            "metadata": {}
        },
        {
            "cell_type": "markdown",
            "source": [
                "\r\n",
                "## **Import data and spilt it into train and test datasets**\r\n"
            ],
            "metadata": {}
        },
        {
            "cell_type": "code",
            "execution_count": 8,
            "source": [
                "#train datafile \r\n",
                "review_data = pd.read_csv(\"Shopee Reviews Data/train.csv\", index_col=0)\r\n",
                "review_data.rename(columns = {'rating': 'label'}, inplace = True)\r\n",
                "review_data = review_data.sample(frac=1)\r\n",
                "review_data.head()"
            ],
            "outputs": [
                {
                    "output_type": "execute_result",
                    "data": {
                        "text/plain": [
                            "                                                      review  label\n",
                            "review_id                                                          \n",
                            "74686         Awesome awesome quality of goods shipped speed      4\n",
                            "137337                                     Baguussss .. Like      5\n",
                            "35924                Product quality good price good product      3\n",
                            "66144      Until the appropriate time of booking. Sampeny...      4\n",
                            "100248                            Pengiriimann very cepattt.      4"
                        ],
                        "text/html": [
                            "<div>\n",
                            "<style scoped>\n",
                            "    .dataframe tbody tr th:only-of-type {\n",
                            "        vertical-align: middle;\n",
                            "    }\n",
                            "\n",
                            "    .dataframe tbody tr th {\n",
                            "        vertical-align: top;\n",
                            "    }\n",
                            "\n",
                            "    .dataframe thead th {\n",
                            "        text-align: right;\n",
                            "    }\n",
                            "</style>\n",
                            "<table border=\"1\" class=\"dataframe\">\n",
                            "  <thead>\n",
                            "    <tr style=\"text-align: right;\">\n",
                            "      <th></th>\n",
                            "      <th>review</th>\n",
                            "      <th>label</th>\n",
                            "    </tr>\n",
                            "    <tr>\n",
                            "      <th>review_id</th>\n",
                            "      <th></th>\n",
                            "      <th></th>\n",
                            "    </tr>\n",
                            "  </thead>\n",
                            "  <tbody>\n",
                            "    <tr>\n",
                            "      <th>74686</th>\n",
                            "      <td>Awesome awesome quality of goods shipped speed</td>\n",
                            "      <td>4</td>\n",
                            "    </tr>\n",
                            "    <tr>\n",
                            "      <th>137337</th>\n",
                            "      <td>Baguussss .. Like</td>\n",
                            "      <td>5</td>\n",
                            "    </tr>\n",
                            "    <tr>\n",
                            "      <th>35924</th>\n",
                            "      <td>Product quality good price good product</td>\n",
                            "      <td>3</td>\n",
                            "    </tr>\n",
                            "    <tr>\n",
                            "      <th>66144</th>\n",
                            "      <td>Until the appropriate time of booking. Sampeny...</td>\n",
                            "      <td>4</td>\n",
                            "    </tr>\n",
                            "    <tr>\n",
                            "      <th>100248</th>\n",
                            "      <td>Pengiriimann very cepattt.</td>\n",
                            "      <td>4</td>\n",
                            "    </tr>\n",
                            "  </tbody>\n",
                            "</table>\n",
                            "</div>"
                        ]
                    },
                    "metadata": {},
                    "execution_count": 8
                }
            ],
            "metadata": {}
        },
        {
            "cell_type": "code",
            "execution_count": 9,
            "source": [
                "review_data.reset_index(drop=True, inplace=True)\r\n",
                "review_data.head()"
            ],
            "outputs": [
                {
                    "output_type": "execute_result",
                    "data": {
                        "text/plain": [
                            "                                              review  label\n",
                            "0     Awesome awesome quality of goods shipped speed      4\n",
                            "1                                  Baguussss .. Like      5\n",
                            "2            Product quality good price good product      3\n",
                            "3  Until the appropriate time of booking. Sampeny...      4\n",
                            "4                         Pengiriimann very cepattt.      4"
                        ],
                        "text/html": [
                            "<div>\n",
                            "<style scoped>\n",
                            "    .dataframe tbody tr th:only-of-type {\n",
                            "        vertical-align: middle;\n",
                            "    }\n",
                            "\n",
                            "    .dataframe tbody tr th {\n",
                            "        vertical-align: top;\n",
                            "    }\n",
                            "\n",
                            "    .dataframe thead th {\n",
                            "        text-align: right;\n",
                            "    }\n",
                            "</style>\n",
                            "<table border=\"1\" class=\"dataframe\">\n",
                            "  <thead>\n",
                            "    <tr style=\"text-align: right;\">\n",
                            "      <th></th>\n",
                            "      <th>review</th>\n",
                            "      <th>label</th>\n",
                            "    </tr>\n",
                            "  </thead>\n",
                            "  <tbody>\n",
                            "    <tr>\n",
                            "      <th>0</th>\n",
                            "      <td>Awesome awesome quality of goods shipped speed</td>\n",
                            "      <td>4</td>\n",
                            "    </tr>\n",
                            "    <tr>\n",
                            "      <th>1</th>\n",
                            "      <td>Baguussss .. Like</td>\n",
                            "      <td>5</td>\n",
                            "    </tr>\n",
                            "    <tr>\n",
                            "      <th>2</th>\n",
                            "      <td>Product quality good price good product</td>\n",
                            "      <td>3</td>\n",
                            "    </tr>\n",
                            "    <tr>\n",
                            "      <th>3</th>\n",
                            "      <td>Until the appropriate time of booking. Sampeny...</td>\n",
                            "      <td>4</td>\n",
                            "    </tr>\n",
                            "    <tr>\n",
                            "      <th>4</th>\n",
                            "      <td>Pengiriimann very cepattt.</td>\n",
                            "      <td>4</td>\n",
                            "    </tr>\n",
                            "  </tbody>\n",
                            "</table>\n",
                            "</div>"
                        ]
                    },
                    "metadata": {},
                    "execution_count": 9
                }
            ],
            "metadata": {}
        },
        {
            "cell_type": "code",
            "execution_count": 10,
            "source": [
                "review_data.describe()"
            ],
            "outputs": [
                {
                    "output_type": "execute_result",
                    "data": {
                        "text/plain": [
                            "               label\n",
                            "count  146811.000000\n",
                            "mean        3.562764\n",
                            "std         1.260537\n",
                            "min         1.000000\n",
                            "25%         3.000000\n",
                            "50%         4.000000\n",
                            "75%         5.000000\n",
                            "max         5.000000"
                        ],
                        "text/html": [
                            "<div>\n",
                            "<style scoped>\n",
                            "    .dataframe tbody tr th:only-of-type {\n",
                            "        vertical-align: middle;\n",
                            "    }\n",
                            "\n",
                            "    .dataframe tbody tr th {\n",
                            "        vertical-align: top;\n",
                            "    }\n",
                            "\n",
                            "    .dataframe thead th {\n",
                            "        text-align: right;\n",
                            "    }\n",
                            "</style>\n",
                            "<table border=\"1\" class=\"dataframe\">\n",
                            "  <thead>\n",
                            "    <tr style=\"text-align: right;\">\n",
                            "      <th></th>\n",
                            "      <th>label</th>\n",
                            "    </tr>\n",
                            "  </thead>\n",
                            "  <tbody>\n",
                            "    <tr>\n",
                            "      <th>count</th>\n",
                            "      <td>146811.000000</td>\n",
                            "    </tr>\n",
                            "    <tr>\n",
                            "      <th>mean</th>\n",
                            "      <td>3.562764</td>\n",
                            "    </tr>\n",
                            "    <tr>\n",
                            "      <th>std</th>\n",
                            "      <td>1.260537</td>\n",
                            "    </tr>\n",
                            "    <tr>\n",
                            "      <th>min</th>\n",
                            "      <td>1.000000</td>\n",
                            "    </tr>\n",
                            "    <tr>\n",
                            "      <th>25%</th>\n",
                            "      <td>3.000000</td>\n",
                            "    </tr>\n",
                            "    <tr>\n",
                            "      <th>50%</th>\n",
                            "      <td>4.000000</td>\n",
                            "    </tr>\n",
                            "    <tr>\n",
                            "      <th>75%</th>\n",
                            "      <td>5.000000</td>\n",
                            "    </tr>\n",
                            "    <tr>\n",
                            "      <th>max</th>\n",
                            "      <td>5.000000</td>\n",
                            "    </tr>\n",
                            "  </tbody>\n",
                            "</table>\n",
                            "</div>"
                        ]
                    },
                    "metadata": {},
                    "execution_count": 10
                }
            ],
            "metadata": {}
        },
        {
            "cell_type": "code",
            "execution_count": 11,
            "source": [
                "#test datafile \r\n",
                "#test_data = pd.read_csv(\"Shopee Reviews Data/test.csv\", index_col=0)\r\n",
                "#test_data = test_data.sample(frac=1)\r\n",
                "#test_data.head()"
            ],
            "outputs": [],
            "metadata": {}
        },
        {
            "cell_type": "code",
            "execution_count": 12,
            "source": [
                "#test_data.describe()"
            ],
            "outputs": [],
            "metadata": {}
        },
        {
            "cell_type": "code",
            "execution_count": 13,
            "source": [
                "#label\r\n",
                "y= review_data.label\r\n",
                "#features\r\n",
                "x=review_data.drop('label', axis=1)"
            ],
            "outputs": [],
            "metadata": {}
        },
        {
            "cell_type": "code",
            "execution_count": 14,
            "source": [
                "#split into test and train dataset with test size 20% \r\n",
                "x_train,x_test,y_train,y_test=train_test_split(x,y,test_size=0.2)\r\n",
                "x_train.head()"
            ],
            "outputs": [
                {
                    "output_type": "execute_result",
                    "data": {
                        "text/plain": [
                            "                                                   review\n",
                            "136284   Good value CP bad bad service bad bad bad bad...\n",
                            "94586   Pretty lah, small mouth interchangeable 2 😃tin...\n",
                            "57477                                Product quality good\n",
                            "121853  The response was a bit slow seller, ask for ad...\n",
                            "49041                                  packing an good !!"
                        ],
                        "text/html": [
                            "<div>\n",
                            "<style scoped>\n",
                            "    .dataframe tbody tr th:only-of-type {\n",
                            "        vertical-align: middle;\n",
                            "    }\n",
                            "\n",
                            "    .dataframe tbody tr th {\n",
                            "        vertical-align: top;\n",
                            "    }\n",
                            "\n",
                            "    .dataframe thead th {\n",
                            "        text-align: right;\n",
                            "    }\n",
                            "</style>\n",
                            "<table border=\"1\" class=\"dataframe\">\n",
                            "  <thead>\n",
                            "    <tr style=\"text-align: right;\">\n",
                            "      <th></th>\n",
                            "      <th>review</th>\n",
                            "    </tr>\n",
                            "  </thead>\n",
                            "  <tbody>\n",
                            "    <tr>\n",
                            "      <th>136284</th>\n",
                            "      <td>Good value CP bad bad service bad bad bad bad...</td>\n",
                            "    </tr>\n",
                            "    <tr>\n",
                            "      <th>94586</th>\n",
                            "      <td>Pretty lah, small mouth interchangeable 2 😃tin...</td>\n",
                            "    </tr>\n",
                            "    <tr>\n",
                            "      <th>57477</th>\n",
                            "      <td>Product quality good</td>\n",
                            "    </tr>\n",
                            "    <tr>\n",
                            "      <th>121853</th>\n",
                            "      <td>The response was a bit slow seller, ask for ad...</td>\n",
                            "    </tr>\n",
                            "    <tr>\n",
                            "      <th>49041</th>\n",
                            "      <td>packing an good !!</td>\n",
                            "    </tr>\n",
                            "  </tbody>\n",
                            "</table>\n",
                            "</div>"
                        ]
                    },
                    "metadata": {},
                    "execution_count": 14
                }
            ],
            "metadata": {}
        },
        {
            "cell_type": "code",
            "execution_count": 15,
            "source": [
                "x_test.head()"
            ],
            "outputs": [
                {
                    "output_type": "execute_result",
                    "data": {
                        "text/plain": [
                            "                                                   review\n",
                            "143983                  The product quality is excellent.\n",
                            "51264   Alhamdulillah already come its neat packaging,...\n",
                            "136746  Pesen 24th, recently sent date 27. Sellers nev...\n",
                            "21248   Jazakillah Khairan katsiran. Cepet really, che...\n",
                            "140311                  The product quality is excellent."
                        ],
                        "text/html": [
                            "<div>\n",
                            "<style scoped>\n",
                            "    .dataframe tbody tr th:only-of-type {\n",
                            "        vertical-align: middle;\n",
                            "    }\n",
                            "\n",
                            "    .dataframe tbody tr th {\n",
                            "        vertical-align: top;\n",
                            "    }\n",
                            "\n",
                            "    .dataframe thead th {\n",
                            "        text-align: right;\n",
                            "    }\n",
                            "</style>\n",
                            "<table border=\"1\" class=\"dataframe\">\n",
                            "  <thead>\n",
                            "    <tr style=\"text-align: right;\">\n",
                            "      <th></th>\n",
                            "      <th>review</th>\n",
                            "    </tr>\n",
                            "  </thead>\n",
                            "  <tbody>\n",
                            "    <tr>\n",
                            "      <th>143983</th>\n",
                            "      <td>The product quality is excellent.</td>\n",
                            "    </tr>\n",
                            "    <tr>\n",
                            "      <th>51264</th>\n",
                            "      <td>Alhamdulillah already come its neat packaging,...</td>\n",
                            "    </tr>\n",
                            "    <tr>\n",
                            "      <th>136746</th>\n",
                            "      <td>Pesen 24th, recently sent date 27. Sellers nev...</td>\n",
                            "    </tr>\n",
                            "    <tr>\n",
                            "      <th>21248</th>\n",
                            "      <td>Jazakillah Khairan katsiran. Cepet really, che...</td>\n",
                            "    </tr>\n",
                            "    <tr>\n",
                            "      <th>140311</th>\n",
                            "      <td>The product quality is excellent.</td>\n",
                            "    </tr>\n",
                            "  </tbody>\n",
                            "</table>\n",
                            "</div>"
                        ]
                    },
                    "metadata": {},
                    "execution_count": 15
                }
            ],
            "metadata": {}
        },
        {
            "cell_type": "code",
            "execution_count": 16,
            "source": [
                "x_train.describe()"
            ],
            "outputs": [
                {
                    "output_type": "execute_result",
                    "data": {
                        "text/plain": [
                            "                            review\n",
                            "count                       117448\n",
                            "unique                       92568\n",
                            "top      Excellent product quality\n",
                            "freq                          1098"
                        ],
                        "text/html": [
                            "<div>\n",
                            "<style scoped>\n",
                            "    .dataframe tbody tr th:only-of-type {\n",
                            "        vertical-align: middle;\n",
                            "    }\n",
                            "\n",
                            "    .dataframe tbody tr th {\n",
                            "        vertical-align: top;\n",
                            "    }\n",
                            "\n",
                            "    .dataframe thead th {\n",
                            "        text-align: right;\n",
                            "    }\n",
                            "</style>\n",
                            "<table border=\"1\" class=\"dataframe\">\n",
                            "  <thead>\n",
                            "    <tr style=\"text-align: right;\">\n",
                            "      <th></th>\n",
                            "      <th>review</th>\n",
                            "    </tr>\n",
                            "  </thead>\n",
                            "  <tbody>\n",
                            "    <tr>\n",
                            "      <th>count</th>\n",
                            "      <td>117448</td>\n",
                            "    </tr>\n",
                            "    <tr>\n",
                            "      <th>unique</th>\n",
                            "      <td>92568</td>\n",
                            "    </tr>\n",
                            "    <tr>\n",
                            "      <th>top</th>\n",
                            "      <td>Excellent product quality</td>\n",
                            "    </tr>\n",
                            "    <tr>\n",
                            "      <th>freq</th>\n",
                            "      <td>1098</td>\n",
                            "    </tr>\n",
                            "  </tbody>\n",
                            "</table>\n",
                            "</div>"
                        ]
                    },
                    "metadata": {},
                    "execution_count": 16
                }
            ],
            "metadata": {}
        },
        {
            "cell_type": "code",
            "execution_count": 17,
            "source": [
                "x_test.describe()"
            ],
            "outputs": [
                {
                    "output_type": "execute_result",
                    "data": {
                        "text/plain": [
                            "                            review\n",
                            "count                        29363\n",
                            "unique                       23928\n",
                            "top      Excellent product quality\n",
                            "freq                           280"
                        ],
                        "text/html": [
                            "<div>\n",
                            "<style scoped>\n",
                            "    .dataframe tbody tr th:only-of-type {\n",
                            "        vertical-align: middle;\n",
                            "    }\n",
                            "\n",
                            "    .dataframe tbody tr th {\n",
                            "        vertical-align: top;\n",
                            "    }\n",
                            "\n",
                            "    .dataframe thead th {\n",
                            "        text-align: right;\n",
                            "    }\n",
                            "</style>\n",
                            "<table border=\"1\" class=\"dataframe\">\n",
                            "  <thead>\n",
                            "    <tr style=\"text-align: right;\">\n",
                            "      <th></th>\n",
                            "      <th>review</th>\n",
                            "    </tr>\n",
                            "  </thead>\n",
                            "  <tbody>\n",
                            "    <tr>\n",
                            "      <th>count</th>\n",
                            "      <td>29363</td>\n",
                            "    </tr>\n",
                            "    <tr>\n",
                            "      <th>unique</th>\n",
                            "      <td>23928</td>\n",
                            "    </tr>\n",
                            "    <tr>\n",
                            "      <th>top</th>\n",
                            "      <td>Excellent product quality</td>\n",
                            "    </tr>\n",
                            "    <tr>\n",
                            "      <th>freq</th>\n",
                            "      <td>280</td>\n",
                            "    </tr>\n",
                            "  </tbody>\n",
                            "</table>\n",
                            "</div>"
                        ]
                    },
                    "metadata": {},
                    "execution_count": 17
                }
            ],
            "metadata": {}
        },
        {
            "cell_type": "markdown",
            "source": [
                "## **Text-preprocessing** "
            ],
            "metadata": {}
        },
        {
            "cell_type": "code",
            "execution_count": 18,
            "source": [
                "def NormalizeWithPOS(text):\r\n",
                "    # Lemmatization & Stemming according to POS tagging\r\n",
                "\r\n",
                "    #tokenize snetence into a list of single words \r\n",
                "    word_list = word_tokenize(text)\r\n",
                "    rev = []\r\n",
                "    \r\n",
                "    lemmatizer = WordNetLemmatizer() \r\n",
                "    stemmer = PorterStemmer() \r\n",
                "    \r\n",
                "    #pos_tag() get the POS tag of given word \r\n",
                "    #'J'--> Adjective \r\n",
                "    #'V'--> Verb\r\n",
                "    #'N'--> Noun\r\n",
                "    #'R'--> Adverb \r\n",
                "    \r\n",
                "    for word, tag in pos_tag(word_list):\r\n",
                "        if tag.startswith('J'):\r\n",
                "            w = lemmatizer.lemmatize(word, pos='a')\r\n",
                "        elif tag.startswith('V'):\r\n",
                "            w = lemmatizer.lemmatize(word, pos='v')\r\n",
                "        elif tag.startswith('N'):\r\n",
                "            w = lemmatizer.lemmatize(word, pos='n')\r\n",
                "        elif tag.startswith('R'):\r\n",
                "            w = lemmatizer.lemmatize(word, pos='r')\r\n",
                "        else:\r\n",
                "            w = word\r\n",
                "        w = stemmer.stem(w)\r\n",
                "        rev.append(w)\r\n",
                "    review = ' '.join(rev)\r\n",
                "    return review"
            ],
            "outputs": [],
            "metadata": {}
        },
        {
            "cell_type": "code",
            "execution_count": 19,
            "source": [
                "print(stopwords.words('english'))"
            ],
            "outputs": [
                {
                    "output_type": "stream",
                    "name": "stdout",
                    "text": [
                        "['i', 'me', 'my', 'myself', 'we', 'our', 'ours', 'ourselves', 'you', \"you're\", \"you've\", \"you'll\", \"you'd\", 'your', 'yours', 'yourself', 'yourselves', 'he', 'him', 'his', 'himself', 'she', \"she's\", 'her', 'hers', 'herself', 'it', \"it's\", 'its', 'itself', 'they', 'them', 'their', 'theirs', 'themselves', 'what', 'which', 'who', 'whom', 'this', 'that', \"that'll\", 'these', 'those', 'am', 'is', 'are', 'was', 'were', 'be', 'been', 'being', 'have', 'has', 'had', 'having', 'do', 'does', 'did', 'doing', 'a', 'an', 'the', 'and', 'but', 'if', 'or', 'because', 'as', 'until', 'while', 'of', 'at', 'by', 'for', 'with', 'about', 'against', 'between', 'into', 'through', 'during', 'before', 'after', 'above', 'below', 'to', 'from', 'up', 'down', 'in', 'out', 'on', 'off', 'over', 'under', 'again', 'further', 'then', 'once', 'here', 'there', 'when', 'where', 'why', 'how', 'all', 'any', 'both', 'each', 'few', 'more', 'most', 'other', 'some', 'such', 'no', 'nor', 'not', 'only', 'own', 'same', 'so', 'than', 'too', 'very', 's', 't', 'can', 'will', 'just', 'don', \"don't\", 'should', \"should've\", 'now', 'd', 'll', 'm', 'o', 're', 've', 'y', 'ain', 'aren', \"aren't\", 'couldn', \"couldn't\", 'didn', \"didn't\", 'doesn', \"doesn't\", 'hadn', \"hadn't\", 'hasn', \"hasn't\", 'haven', \"haven't\", 'isn', \"isn't\", 'ma', 'mightn', \"mightn't\", 'mustn', \"mustn't\", 'needn', \"needn't\", 'shan', \"shan't\", 'shouldn', \"shouldn't\", 'wasn', \"wasn't\", 'weren', \"weren't\", 'won', \"won't\", 'wouldn', \"wouldn't\"]\n"
                    ]
                }
            ],
            "metadata": {}
        },
        {
            "cell_type": "code",
            "execution_count": 20,
            "source": [
                "def cleanText(text):\r\n",
                "    \r\n",
                "    #replace some specific words \r\n",
                "    text = re.sub(r'<.*?>', ' ', text)\r\n",
                "    text = re.sub(r\"can't\", \"can not\", text)\r\n",
                "    text = re.sub(r\"n't\", \" not\", text)\r\n",
                "    text = re.sub(r\"[0-9]+\", ' ', text)\r\n",
                "    text = re.sub(r\"-\", ' ', text)\r\n",
                "    text = re.sub(' +', ' ', text)\r\n",
                "    text = text.strip().lower()\r\n",
                "\r\n",
                "    #remove stop words \r\n",
                "    stop_words=set(stopwords.words('english'))\r\n",
                "    word_tokens=word_tokenize(text)\r\n",
                "    filtered_list=[w for w in word_tokens if not w in stop_words]\r\n",
                "    text=' '.join(filtered_list)\r\n",
                "\r\n",
                "    # Replace punctuations with space\r\n",
                "    if embedding is 'BERT': # save ! ? . for end of the sentence detection [,/():;']\r\n",
                "        filters='\"#$%&*+<=>@[\\\\]^_`{|}~\\t\\n'\r\n",
                "        text = re.sub(r'\\!+', '!', text)\r\n",
                "        text = re.sub(r'\\?+', '?', text)\r\n",
                "    else:\r\n",
                "        filters='!\"\\'#$%&()*+,-./:;<=>?@[\\\\]^_`{|}~\\t\\n'\r\n",
                "    translate_dict = dict((i, \" \") for i in filters)\r\n",
                "    translate_map = str.maketrans(translate_dict)\r\n",
                "    text = text.translate(translate_map)\r\n",
                "    \r\n",
                "    if embedding is 'BERT':\r\n",
                "        text = re.sub(r'\\( *\\)', ' ', text)\r\n",
                "\r\n",
                "    if embedding is not 'BERT':\r\n",
                "        text = ' '.join([w for w in text.split() if len(w)>1])\r\n",
                "\r\n",
                "    text = ''.join(text)\r\n",
                "\r\n",
                "    return text"
            ],
            "outputs": [],
            "metadata": {}
        },
        {
            "cell_type": "code",
            "execution_count": 21,
            "source": [
                "embedding=''\r\n",
                "x_train['clean_text']= x_train['review'].apply(cleanText)\r\n",
                "x_test['clean_text']=x_test['review'].apply(cleanText)"
            ],
            "outputs": [],
            "metadata": {}
        },
        {
            "cell_type": "markdown",
            "source": [
                "## **Visual comparision of clean and before clean text** "
            ],
            "metadata": {}
        },
        {
            "cell_type": "code",
            "execution_count": 22,
            "source": [
                "print(\"A review example of dataset before cleaning:\", end=\"\\n\\n\")\r\n",
                "print(x_train.iloc[1112]['review'], end='\\n\\n')\r\n",
                "\r\n",
                "\r\n",
                "print(\"clean_text:\")\r\n",
                "print(x_train.iloc[1112]['clean_text'], end=\"\\n\\n\")"
            ],
            "outputs": [
                {
                    "output_type": "stream",
                    "name": "stdout",
                    "text": [
                        "A review example of dataset before cleaning:\n",
                        "\n",
                        "Semoooogggaaaaaa cocooooooooooooookkkkkkkkkkkkkkkkkk\n",
                        "\n",
                        "clean_text:\n",
                        "semoooogggaaaaaa cocooooooooooooookkkkkkkkkkkkkkkkkk\n",
                        "\n"
                    ]
                }
            ],
            "metadata": {}
        },
        {
            "cell_type": "code",
            "execution_count": 23,
            "source": [
                "#normalized with POS \r\n",
                "x_train['clean_text_normalized']=x_train['clean_text'].apply(NormalizeWithPOS)\r\n",
                "x_test['clean_text_normalized']=x_test['clean_text'].apply(NormalizeWithPOS)"
            ],
            "outputs": [],
            "metadata": {}
        },
        {
            "cell_type": "code",
            "execution_count": 24,
            "source": [
                "print(\"A review example of dataset before cleaning:\", end=\"\\n\\n\")\r\n",
                "print(x_train.iloc[1114]['review'], end='\\n\\n')\r\n",
                "\r\n",
                "\r\n",
                "print(\"clean_text_normalized:\")\r\n",
                "print(x_train.iloc[1114]['clean_text_normalized'], end=\"\\n\\n\")"
            ],
            "outputs": [
                {
                    "output_type": "stream",
                    "name": "stdout",
                    "text": [
                        "A review example of dataset before cleaning:\n",
                        "\n",
                        " Excellent product quality product packaging is very beautiful and certainly very fast delivery time. Thank shop sir ❤\n",
                        "\n",
                        "clean_text_normalized:\n",
                        "excel product qualiti product packag beauti certainli fast deliveri time thank shop sir\n",
                        "\n"
                    ]
                }
            ],
            "metadata": {}
        },
        {
            "cell_type": "markdown",
            "source": [
                "## **Low frequency words of train data**\r\n",
                "for BOW and TFIDF\r\n"
            ],
            "metadata": {}
        },
        {
            "cell_type": "code",
            "execution_count": 25,
            "source": [
                "freq_train= pd.Series(' '.join(x_train['clean_text_normalized']).split()).value_counts()\r\n",
                "less_than_five_freq_train= freq_train[(freq_train<5)]\r\n",
                "print(less_than_five_freq_train)"
            ],
            "outputs": [
                {
                    "output_type": "stream",
                    "name": "stdout",
                    "text": [
                        "dumatng       4\n",
                        "realist       4\n",
                        "builder       4\n",
                        "flaki         4\n",
                        "defeat        4\n",
                        "             ..\n",
                        "teksturnya    1\n",
                        "mksimal       1\n",
                        "dof           1\n",
                        "kemasannya    1\n",
                        "siku🤣         1\n",
                        "Length: 42964, dtype: int64\n"
                    ]
                }
            ],
            "metadata": {}
        },
        {
            "cell_type": "markdown",
            "source": [
                "## **Low frequency words of test data**\r\n",
                "for BOW and TFIDF\r\n"
            ],
            "metadata": {}
        },
        {
            "cell_type": "code",
            "execution_count": 26,
            "source": [
                "freq_test= pd.Series(' '.join(x_test['clean_text_normalized']).split()).value_counts()\r\n",
                "less_than_five_freq_test= freq_test[(freq_test<5)]\r\n",
                "print(less_than_five_freq_test)"
            ],
            "outputs": [
                {
                    "output_type": "stream",
                    "name": "stdout",
                    "text": [
                        "hinh        4\n",
                        "wlpn        4\n",
                        "😄😄😄         4\n",
                        "lagiiii     4\n",
                        "io          4\n",
                        "           ..\n",
                        "discreet    1\n",
                        "nitto       1\n",
                        "😍😍😍👍👍👍      1\n",
                        "exposur     1\n",
                        "habiss      1\n",
                        "Length: 17141, dtype: int64\n"
                    ]
                }
            ],
            "metadata": {}
        },
        {
            "cell_type": "markdown",
            "source": [
                "## **Remove low frequency words which less than 5** "
            ],
            "metadata": {}
        },
        {
            "cell_type": "code",
            "execution_count": 27,
            "source": [
                "x_train['clean_text_normalized']= x_train['clean_text_normalized'].apply(lambda x: ' '\r\n",
                ".join(x for x in x.split() if x not in less_than_five_freq_train))\r\n",
                "x_test['clean_text_normalized']=x_test['clean_text_normalized'].apply(lambda x: ' '\r\n",
                ".join(x for x in x.split() if x not in less_than_five_freq_test))\r\n"
            ],
            "outputs": [],
            "metadata": {}
        },
        {
            "cell_type": "code",
            "execution_count": 28,
            "source": [
                "embedding= 'BOW'\r\n",
                "vectorizer= CountVectorizer(stop_words='english')\r\n",
                "\r\n",
                "bow_training_features= vectorizer.fit_transform(x_train['clean_text_normalized'])\r\n",
                "bow_test_features= vectorizer.transform(x_test['clean_text_normalized'])\r\n",
                "\r\n",
                "print(bow_training_features.shape)"
            ],
            "outputs": [
                {
                    "output_type": "stream",
                    "name": "stdout",
                    "text": [
                        "(117448, 7935)\n"
                    ]
                }
            ],
            "metadata": {}
        },
        {
            "cell_type": "code",
            "execution_count": 35,
            "source": [
                "# A function to plot and print result\r\n",
                "def printResult(y_pred, y_prob):\r\n",
                "    acc = accuracy_score(y_test, y_pred)\r\n",
                "    # Result\r\n",
                "    print(\"Accuracy: {:.2f}\".format(acc*100),end='\\n\\n')\r\n",
                "    cm = confusion_matrix (y_test,y_pred)\r\n",
                "    print('Confusion Matrix:\\n', cm)\r\n",
                "    print(classification_report(y_test,y_pred))"
            ],
            "outputs": [],
            "metadata": {}
        },
        {
            "cell_type": "code",
            "execution_count": 30,
            "source": [
                "from sklearn.svm import LinearSVC\r\n",
                "model = LinearSVC(random_state=0, tol=1e-5)\r\n",
                "#model = SVC(kernel ='linear', C = 1)"
            ],
            "outputs": [],
            "metadata": {}
        },
        {
            "cell_type": "code",
            "execution_count": 33,
            "source": [
                "# Training \r\n",
                "model.fit(bow_training_features, y_train)\r\n",
                "\r\n",
                "# Evaluation\r\n",
                "y_pred_bow_svm = model.predict(bow_test_features)\r\n",
                "y_prob_bow_svm = model.decision_function(bow_test_features)"
            ],
            "outputs": [],
            "metadata": {}
        },
        {
            "cell_type": "code",
            "execution_count": 36,
            "source": [
                "# Result\r\n",
                "printResult(y_pred_bow_svm, y_prob_bow_svm)"
            ],
            "outputs": [
                {
                    "output_type": "stream",
                    "name": "stdout",
                    "text": [
                        "Accuracy: 43.82\n",
                        "\n",
                        "Confusion Matrix:\n",
                        " [[1597  194  811  169  173]\n",
                        " [ 525  546 1058  247  226]\n",
                        " [ 462  307 4406 1059  973]\n",
                        " [ 164   84 1733 3508 2890]\n",
                        " [ 183   93 1634 3511 2810]]\n",
                        "              precision    recall  f1-score   support\n",
                        "\n",
                        "           1       0.54      0.54      0.54      2944\n",
                        "           2       0.45      0.21      0.29      2602\n",
                        "           3       0.46      0.61      0.52      7207\n",
                        "           4       0.41      0.42      0.42      8379\n",
                        "           5       0.40      0.34      0.37      8231\n",
                        "\n",
                        "    accuracy                           0.44     29363\n",
                        "   macro avg       0.45      0.42      0.43     29363\n",
                        "weighted avg       0.44      0.44      0.43     29363\n",
                        "\n"
                    ]
                }
            ],
            "metadata": {}
        },
        {
            "cell_type": "code",
            "execution_count": 37,
            "source": [
                "embedding = 'TFIDF_WITH_STOP'\r\n",
                "vectorizer = TfidfVectorizer(ngram_range=(1, 2), max_features=20000)\r\n",
                "\r\n",
                "tfidf_with_stop_training_features = vectorizer.fit_transform(x_train[\"clean_text_normalized\"])    \r\n",
                "tfidf_with_stop_test_features = vectorizer.transform(x_test[\"clean_text_normalized\"])\r\n",
                "\r\n",
                "print(tfidf_with_stop_training_features.shape)"
            ],
            "outputs": [
                {
                    "output_type": "stream",
                    "name": "stdout",
                    "text": [
                        "(117448, 20000)\n"
                    ]
                }
            ],
            "metadata": {}
        },
        {
            "cell_type": "code",
            "execution_count": 38,
            "source": [
                "# Training \r\n",
                "model.fit(tfidf_with_stop_training_features, y_train)\r\n",
                "\r\n",
                "# Evaluation\r\n",
                "y_pred_tfidf_svm = model.predict(tfidf_with_stop_test_features)\r\n",
                "y_prob_tfidf_svm = model.decision_function(tfidf_with_stop_test_features)"
            ],
            "outputs": [],
            "metadata": {}
        },
        {
            "cell_type": "code",
            "execution_count": 39,
            "source": [
                "# Result\r\n",
                "printResult(y_pred_tfidf_svm, y_prob_tfidf_svm)"
            ],
            "outputs": [
                {
                    "output_type": "stream",
                    "name": "stdout",
                    "text": [
                        "Accuracy: 45.13\n",
                        "\n",
                        "Confusion Matrix:\n",
                        " [[1773  324  509  171  167]\n",
                        " [ 593  692  862  219  236]\n",
                        " [ 473  465 4131 1043 1095]\n",
                        " [ 186  121 1334 3271 3467]\n",
                        " [ 183  114 1264 3286 3384]]\n",
                        "              precision    recall  f1-score   support\n",
                        "\n",
                        "           1       0.55      0.60      0.58      2944\n",
                        "           2       0.40      0.27      0.32      2602\n",
                        "           3       0.51      0.57      0.54      7207\n",
                        "           4       0.41      0.39      0.40      8379\n",
                        "           5       0.41      0.41      0.41      8231\n",
                        "\n",
                        "    accuracy                           0.45     29363\n",
                        "   macro avg       0.46      0.45      0.45     29363\n",
                        "weighted avg       0.45      0.45      0.45     29363\n",
                        "\n"
                    ]
                }
            ],
            "metadata": {}
        },
        {
            "cell_type": "code",
            "execution_count": 45,
            "source": [
                "model = MultinomialNB()"
            ],
            "outputs": [],
            "metadata": {}
        },
        {
            "cell_type": "code",
            "execution_count": 46,
            "source": [
                "# Training \r\n",
                "model.fit(bow_training_features.toarray(), y_train)\r\n",
                "\r\n",
                "# Evaluation\r\n",
                "y_pred_bow_nb = model.predict(bow_test_features.toarray())\r\n",
                "y_prob_bow_nb = model.predict_proba(bow_test_features.toarray())[:,1]"
            ],
            "outputs": [
                {
                    "output_type": "error",
                    "ename": "MemoryError",
                    "evalue": "Unable to allocate 6.94 GiB for an array with shape (117448, 7935) and data type int64",
                    "traceback": [
                        "\u001b[1;31m---------------------------------------------------------------------------\u001b[0m",
                        "\u001b[1;31mMemoryError\u001b[0m                               Traceback (most recent call last)",
                        "\u001b[1;32mC:\\Users\\LOKEYI~1\\AppData\\Local\\Temp/ipykernel_6796/1069602999.py\u001b[0m in \u001b[0;36m<module>\u001b[1;34m\u001b[0m\n\u001b[0;32m      1\u001b[0m \u001b[1;31m# Training\u001b[0m\u001b[1;33m\u001b[0m\u001b[1;33m\u001b[0m\u001b[1;33m\u001b[0m\u001b[0m\n\u001b[1;32m----> 2\u001b[1;33m \u001b[0mmodel\u001b[0m\u001b[1;33m.\u001b[0m\u001b[0mfit\u001b[0m\u001b[1;33m(\u001b[0m\u001b[0mbow_training_features\u001b[0m\u001b[1;33m.\u001b[0m\u001b[0mtoarray\u001b[0m\u001b[1;33m(\u001b[0m\u001b[1;33m)\u001b[0m\u001b[1;33m,\u001b[0m \u001b[0my_train\u001b[0m\u001b[1;33m)\u001b[0m\u001b[1;33m\u001b[0m\u001b[1;33m\u001b[0m\u001b[0m\n\u001b[0m\u001b[0;32m      3\u001b[0m \u001b[1;33m\u001b[0m\u001b[0m\n\u001b[0;32m      4\u001b[0m \u001b[1;31m# Evaluation\u001b[0m\u001b[1;33m\u001b[0m\u001b[1;33m\u001b[0m\u001b[1;33m\u001b[0m\u001b[0m\n\u001b[0;32m      5\u001b[0m \u001b[0my_pred_bow_nb\u001b[0m \u001b[1;33m=\u001b[0m \u001b[0mmodel\u001b[0m\u001b[1;33m.\u001b[0m\u001b[0mpredict\u001b[0m\u001b[1;33m(\u001b[0m\u001b[0mbow_test_features\u001b[0m\u001b[1;33m.\u001b[0m\u001b[0mtoarray\u001b[0m\u001b[1;33m(\u001b[0m\u001b[1;33m)\u001b[0m\u001b[1;33m)\u001b[0m\u001b[1;33m\u001b[0m\u001b[1;33m\u001b[0m\u001b[0m\n",
                        "\u001b[1;32m~\\AppData\\Local\\Programs\\Python\\Python39\\lib\\site-packages\\scipy\\sparse\\compressed.py\u001b[0m in \u001b[0;36mtoarray\u001b[1;34m(self, order, out)\u001b[0m\n\u001b[0;32m   1029\u001b[0m         \u001b[1;32mif\u001b[0m \u001b[0mout\u001b[0m \u001b[1;32mis\u001b[0m \u001b[1;32mNone\u001b[0m \u001b[1;32mand\u001b[0m \u001b[0morder\u001b[0m \u001b[1;32mis\u001b[0m \u001b[1;32mNone\u001b[0m\u001b[1;33m:\u001b[0m\u001b[1;33m\u001b[0m\u001b[1;33m\u001b[0m\u001b[0m\n\u001b[0;32m   1030\u001b[0m             \u001b[0morder\u001b[0m \u001b[1;33m=\u001b[0m \u001b[0mself\u001b[0m\u001b[1;33m.\u001b[0m\u001b[0m_swap\u001b[0m\u001b[1;33m(\u001b[0m\u001b[1;34m'cf'\u001b[0m\u001b[1;33m)\u001b[0m\u001b[1;33m[\u001b[0m\u001b[1;36m0\u001b[0m\u001b[1;33m]\u001b[0m\u001b[1;33m\u001b[0m\u001b[1;33m\u001b[0m\u001b[0m\n\u001b[1;32m-> 1031\u001b[1;33m         \u001b[0mout\u001b[0m \u001b[1;33m=\u001b[0m \u001b[0mself\u001b[0m\u001b[1;33m.\u001b[0m\u001b[0m_process_toarray_args\u001b[0m\u001b[1;33m(\u001b[0m\u001b[0morder\u001b[0m\u001b[1;33m,\u001b[0m \u001b[0mout\u001b[0m\u001b[1;33m)\u001b[0m\u001b[1;33m\u001b[0m\u001b[1;33m\u001b[0m\u001b[0m\n\u001b[0m\u001b[0;32m   1032\u001b[0m         \u001b[1;32mif\u001b[0m \u001b[1;32mnot\u001b[0m \u001b[1;33m(\u001b[0m\u001b[0mout\u001b[0m\u001b[1;33m.\u001b[0m\u001b[0mflags\u001b[0m\u001b[1;33m.\u001b[0m\u001b[0mc_contiguous\u001b[0m \u001b[1;32mor\u001b[0m \u001b[0mout\u001b[0m\u001b[1;33m.\u001b[0m\u001b[0mflags\u001b[0m\u001b[1;33m.\u001b[0m\u001b[0mf_contiguous\u001b[0m\u001b[1;33m)\u001b[0m\u001b[1;33m:\u001b[0m\u001b[1;33m\u001b[0m\u001b[1;33m\u001b[0m\u001b[0m\n\u001b[0;32m   1033\u001b[0m             \u001b[1;32mraise\u001b[0m \u001b[0mValueError\u001b[0m\u001b[1;33m(\u001b[0m\u001b[1;34m'Output array must be C or F contiguous'\u001b[0m\u001b[1;33m)\u001b[0m\u001b[1;33m\u001b[0m\u001b[1;33m\u001b[0m\u001b[0m\n",
                        "\u001b[1;32m~\\AppData\\Local\\Programs\\Python\\Python39\\lib\\site-packages\\scipy\\sparse\\base.py\u001b[0m in \u001b[0;36m_process_toarray_args\u001b[1;34m(self, order, out)\u001b[0m\n\u001b[0;32m   1200\u001b[0m             \u001b[1;32mreturn\u001b[0m \u001b[0mout\u001b[0m\u001b[1;33m\u001b[0m\u001b[1;33m\u001b[0m\u001b[0m\n\u001b[0;32m   1201\u001b[0m         \u001b[1;32melse\u001b[0m\u001b[1;33m:\u001b[0m\u001b[1;33m\u001b[0m\u001b[1;33m\u001b[0m\u001b[0m\n\u001b[1;32m-> 1202\u001b[1;33m             \u001b[1;32mreturn\u001b[0m \u001b[0mnp\u001b[0m\u001b[1;33m.\u001b[0m\u001b[0mzeros\u001b[0m\u001b[1;33m(\u001b[0m\u001b[0mself\u001b[0m\u001b[1;33m.\u001b[0m\u001b[0mshape\u001b[0m\u001b[1;33m,\u001b[0m \u001b[0mdtype\u001b[0m\u001b[1;33m=\u001b[0m\u001b[0mself\u001b[0m\u001b[1;33m.\u001b[0m\u001b[0mdtype\u001b[0m\u001b[1;33m,\u001b[0m \u001b[0morder\u001b[0m\u001b[1;33m=\u001b[0m\u001b[0morder\u001b[0m\u001b[1;33m)\u001b[0m\u001b[1;33m\u001b[0m\u001b[1;33m\u001b[0m\u001b[0m\n\u001b[0m\u001b[0;32m   1203\u001b[0m \u001b[1;33m\u001b[0m\u001b[0m\n\u001b[0;32m   1204\u001b[0m \u001b[1;33m\u001b[0m\u001b[0m\n",
                        "\u001b[1;31mMemoryError\u001b[0m: Unable to allocate 6.94 GiB for an array with shape (117448, 7935) and data type int64"
                    ]
                }
            ],
            "metadata": {}
        },
        {
            "cell_type": "code",
            "execution_count": null,
            "source": [
                "# Result\r\n",
                "printResult(y_pred_bow_nb, y_prob_bow_nb)"
            ],
            "outputs": [],
            "metadata": {}
        }
    ],
    "metadata": {
        "orig_nbformat": 4,
        "language_info": {
            "name": "python",
            "version": "3.9.6",
            "mimetype": "text/x-python",
            "codemirror_mode": {
                "name": "ipython",
                "version": 3
            },
            "pygments_lexer": "ipython3",
            "nbconvert_exporter": "python",
            "file_extension": ".py"
        },
        "kernelspec": {
            "name": "python3",
            "display_name": "Python 3.9.6 64-bit"
        },
        "interpreter": {
            "hash": "31d185467661c5eade1566d9c75a99a0ced744908c9e5cda0ac0873039e8f9eb"
        }
    },
    "nbformat": 4,
    "nbformat_minor": 2
}